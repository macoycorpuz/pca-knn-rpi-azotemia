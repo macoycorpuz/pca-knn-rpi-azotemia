{
 "cells": [
  {
   "cell_type": "code",
   "execution_count": 1,
   "metadata": {},
   "outputs": [],
   "source": [
    "import numpy as np\n",
    "import matplotlib.pyplot as plt\n",
    "import pandas as pd"
   ]
  },
  {
   "cell_type": "code",
   "execution_count": 2,
   "metadata": {},
   "outputs": [],
   "source": [
    "dataset = pd.read_csv('dataset.csv', error_bad_lines=False)"
   ]
  },
  {
   "cell_type": "code",
   "execution_count": 3,
   "metadata": {},
   "outputs": [
    {
     "data": {
      "text/html": [
       "<div>\n",
       "<style scoped>\n",
       "    .dataframe tbody tr th:only-of-type {\n",
       "        vertical-align: middle;\n",
       "    }\n",
       "\n",
       "    .dataframe tbody tr th {\n",
       "        vertical-align: top;\n",
       "    }\n",
       "\n",
       "    .dataframe thead th {\n",
       "        text-align: right;\n",
       "    }\n",
       "</style>\n",
       "<table border=\"1\" class=\"dataframe\">\n",
       "  <thead>\n",
       "    <tr style=\"text-align: right;\">\n",
       "      <th></th>\n",
       "      <th>MQ2</th>\n",
       "      <th>MQ3</th>\n",
       "      <th>MQ4</th>\n",
       "      <th>MQ6</th>\n",
       "      <th>MQ7</th>\n",
       "      <th>MQ8</th>\n",
       "      <th>MQ135</th>\n",
       "      <th>target</th>\n",
       "    </tr>\n",
       "  </thead>\n",
       "  <tbody>\n",
       "    <tr>\n",
       "      <th>0</th>\n",
       "      <td>0.74027</td>\n",
       "      <td>0.83665</td>\n",
       "      <td>1.26266</td>\n",
       "      <td>0.55089</td>\n",
       "      <td>0.72227</td>\n",
       "      <td>1.96106</td>\n",
       "      <td>0.99903</td>\n",
       "      <td>healthy</td>\n",
       "    </tr>\n",
       "    <tr>\n",
       "      <th>1</th>\n",
       "      <td>0.74327</td>\n",
       "      <td>0.83603</td>\n",
       "      <td>1.25454</td>\n",
       "      <td>0.55089</td>\n",
       "      <td>0.72252</td>\n",
       "      <td>1.96631</td>\n",
       "      <td>1.00278</td>\n",
       "      <td>healthy</td>\n",
       "    </tr>\n",
       "    <tr>\n",
       "      <th>2</th>\n",
       "      <td>0.74265</td>\n",
       "      <td>0.83640</td>\n",
       "      <td>1.26129</td>\n",
       "      <td>0.55089</td>\n",
       "      <td>0.72440</td>\n",
       "      <td>1.96619</td>\n",
       "      <td>1.00378</td>\n",
       "      <td>healthy</td>\n",
       "    </tr>\n",
       "    <tr>\n",
       "      <th>3</th>\n",
       "      <td>0.74490</td>\n",
       "      <td>0.83753</td>\n",
       "      <td>1.26504</td>\n",
       "      <td>0.55202</td>\n",
       "      <td>0.72315</td>\n",
       "      <td>1.96218</td>\n",
       "      <td>1.00366</td>\n",
       "      <td>healthy</td>\n",
       "    </tr>\n",
       "    <tr>\n",
       "      <th>4</th>\n",
       "      <td>0.74452</td>\n",
       "      <td>0.83565</td>\n",
       "      <td>1.26229</td>\n",
       "      <td>0.55039</td>\n",
       "      <td>0.72327</td>\n",
       "      <td>1.96731</td>\n",
       "      <td>1.00216</td>\n",
       "      <td>healthy</td>\n",
       "    </tr>\n",
       "  </tbody>\n",
       "</table>\n",
       "</div>"
      ],
      "text/plain": [
       "       MQ2      MQ3      MQ4      MQ6      MQ7      MQ8    MQ135   target\n",
       "0  0.74027  0.83665  1.26266  0.55089  0.72227  1.96106  0.99903  healthy\n",
       "1  0.74327  0.83603  1.25454  0.55089  0.72252  1.96631  1.00278  healthy\n",
       "2  0.74265  0.83640  1.26129  0.55089  0.72440  1.96619  1.00378  healthy\n",
       "3  0.74490  0.83753  1.26504  0.55202  0.72315  1.96218  1.00366  healthy\n",
       "4  0.74452  0.83565  1.26229  0.55039  0.72327  1.96731  1.00216  healthy"
      ]
     },
     "execution_count": 3,
     "metadata": {},
     "output_type": "execute_result"
    }
   ],
   "source": [
    "dataset.head()"
   ]
  },
  {
   "cell_type": "code",
   "execution_count": 4,
   "metadata": {},
   "outputs": [],
   "source": [
    "X = dataset.iloc[:, :-1].values\n",
    "y = dataset.iloc[:, 7].values"
   ]
  },
  {
   "cell_type": "code",
   "execution_count": 5,
   "metadata": {},
   "outputs": [
    {
     "name": "stdout",
     "output_type": "stream",
     "text": [
      "[[0.74027 0.83665 1.26266 ... 0.72227 1.96106 0.99903]\n",
      " [0.74327 0.83603 1.25454 ... 0.72252 1.96631 1.00278]\n",
      " [0.74265 0.8364  1.26129 ... 0.7244  1.96619 1.00378]\n",
      " ...\n",
      " [0.98553 1.00353 1.35779 ... 0.92615 1.89306 1.40817]\n",
      " [0.97315 0.99303 1.34492 ... 0.9199  1.88993 1.40804]\n",
      " [0.97815 0.99991 1.35579 ... 0.92365 1.91106 1.42129]]\n",
      "['healthy' 'healthy' 'healthy' ... 'healthy' 'healthy' 'healthy']\n"
     ]
    }
   ],
   "source": [
    "print(X)\n",
    "print(y)"
   ]
  },
  {
   "cell_type": "code",
   "execution_count": 6,
   "metadata": {},
   "outputs": [
    {
     "data": {
      "text/plain": [
       "(array([[0.52352, 0.68702, 1.04878, ..., 0.64364, 1.67743, 0.75902],\n",
       "        [0.8479 , 0.8139 , 1.26341, ..., 0.71565, 1.95993, 1.00616],\n",
       "        [0.65377, 0.74877, 1.12028, ..., 0.6764 , 1.7233 , 0.88528],\n",
       "        ...,\n",
       "        [0.7089 , 0.76415, 1.13978, ..., 0.65489, 1.75243, 0.89403],\n",
       "        [1.34779, 0.87265, 1.50442, ..., 0.9199 , 2.20007, 1.17504],\n",
       "        [0.85215, 0.80965, 1.25541, ..., 0.70127, 1.94468, 0.99603]]),\n",
       " array([[1.31842, 0.85653, 1.45329, ..., 0.8839 , 2.16569, 1.15429],\n",
       "        [0.7734 , 0.78202, 1.17629, ..., 0.65665, 1.80831, 0.91778],\n",
       "        [1.12341, 1.10066, 1.34867, ..., 0.88278, 1.92906, 1.49292],\n",
       "        ...,\n",
       "        [1.26216, 0.83165, 1.35792, ..., 0.8254 , 2.11706, 1.11466],\n",
       "        [0.52914, 0.6904 , 1.04903, ..., 0.63502, 1.67255, 0.75765],\n",
       "        [1.27141, 0.83478, 1.37567, ..., 0.83378, 2.12144, 1.12003]]),\n",
       " array(['healthy', 'healthy', 'healthy', ..., 'healthy', 'azotemic',\n",
       "        'healthy'], dtype=object),\n",
       " array(['azotemic', 'healthy', 'healthy', 'healthy', 'azotemic', 'healthy',\n",
       "        'healthy', 'healthy', 'healthy', 'azotemic', 'healthy', 'healthy',\n",
       "        'healthy', 'healthy', 'azotemic', 'healthy', 'healthy', 'azotemic',\n",
       "        'healthy', 'azotemic', 'azotemic', 'healthy', 'azotemic',\n",
       "        'azotemic', 'healthy', 'healthy', 'azotemic', 'healthy', 'healthy',\n",
       "        'healthy', 'healthy', 'azotemic', 'healthy', 'healthy', 'healthy',\n",
       "        'healthy', 'healthy', 'azotemic', 'healthy', 'healthy', 'healthy',\n",
       "        'healthy', 'azotemic', 'healthy', 'azotemic', 'healthy', 'healthy',\n",
       "        'healthy', 'healthy', 'azotemic', 'azotemic', 'healthy',\n",
       "        'azotemic', 'healthy', 'azotemic', 'healthy', 'azotemic',\n",
       "        'azotemic', 'healthy', 'healthy', 'healthy', 'healthy', 'healthy',\n",
       "        'healthy', 'healthy', 'healthy', 'healthy', 'healthy', 'azotemic',\n",
       "        'healthy', 'healthy', 'healthy', 'healthy', 'healthy', 'healthy',\n",
       "        'healthy', 'healthy', 'healthy', 'azotemic', 'healthy', 'azotemic',\n",
       "        'healthy', 'healthy', 'healthy', 'azotemic', 'healthy', 'healthy',\n",
       "        'healthy', 'healthy', 'healthy', 'healthy', 'healthy', 'healthy',\n",
       "        'healthy', 'healthy', 'healthy', 'healthy', 'azotemic', 'healthy',\n",
       "        'healthy', 'healthy', 'azotemic', 'azotemic', 'healthy', 'healthy',\n",
       "        'healthy', 'healthy', 'healthy', 'healthy', 'healthy', 'healthy',\n",
       "        'healthy', 'healthy', 'azotemic', 'healthy', 'healthy', 'azotemic',\n",
       "        'healthy', 'healthy', 'healthy', 'healthy', 'healthy', 'healthy',\n",
       "        'healthy', 'healthy', 'healthy', 'healthy', 'healthy', 'healthy',\n",
       "        'healthy', 'healthy', 'azotemic', 'azotemic', 'healthy', 'healthy',\n",
       "        'azotemic', 'healthy', 'healthy', 'azotemic', 'healthy',\n",
       "        'azotemic', 'healthy', 'azotemic', 'azotemic', 'healthy',\n",
       "        'azotemic', 'healthy', 'azotemic', 'healthy', 'healthy', 'healthy',\n",
       "        'azotemic', 'healthy', 'healthy', 'healthy', 'healthy', 'azotemic',\n",
       "        'azotemic', 'healthy', 'healthy', 'healthy', 'healthy', 'azotemic',\n",
       "        'azotemic', 'azotemic', 'healthy', 'healthy', 'azotemic',\n",
       "        'healthy', 'healthy', 'healthy', 'healthy', 'healthy', 'healthy',\n",
       "        'azotemic', 'healthy', 'healthy', 'healthy', 'healthy', 'healthy',\n",
       "        'healthy', 'azotemic', 'healthy', 'healthy', 'azotemic',\n",
       "        'azotemic', 'healthy', 'healthy', 'healthy', 'azotemic',\n",
       "        'azotemic', 'healthy', 'healthy', 'healthy', 'healthy', 'healthy',\n",
       "        'azotemic', 'healthy', 'azotemic', 'healthy', 'healthy', 'healthy',\n",
       "        'healthy', 'healthy', 'healthy', 'healthy', 'healthy', 'azotemic',\n",
       "        'azotemic', 'healthy', 'healthy', 'azotemic', 'healthy', 'healthy',\n",
       "        'healthy', 'healthy', 'healthy', 'healthy', 'healthy', 'healthy',\n",
       "        'healthy', 'healthy', 'healthy', 'azotemic', 'healthy', 'healthy',\n",
       "        'healthy', 'healthy', 'azotemic', 'healthy', 'healthy', 'azotemic',\n",
       "        'healthy', 'healthy', 'healthy', 'healthy', 'azotemic', 'azotemic',\n",
       "        'azotemic', 'azotemic', 'healthy', 'azotemic', 'healthy',\n",
       "        'healthy', 'healthy', 'azotemic', 'healthy', 'healthy', 'azotemic',\n",
       "        'azotemic', 'healthy', 'azotemic', 'healthy', 'azotemic',\n",
       "        'healthy', 'azotemic', 'healthy', 'healthy', 'healthy', 'healthy',\n",
       "        'azotemic', 'healthy', 'azotemic', 'azotemic', 'azotemic',\n",
       "        'healthy', 'healthy', 'azotemic', 'healthy', 'healthy', 'healthy',\n",
       "        'healthy', 'healthy', 'healthy', 'healthy', 'azotemic', 'healthy',\n",
       "        'azotemic', 'healthy', 'healthy', 'azotemic', 'azotemic',\n",
       "        'healthy', 'azotemic', 'azotemic', 'healthy', 'healthy', 'healthy',\n",
       "        'azotemic', 'azotemic', 'healthy', 'healthy', 'healthy',\n",
       "        'azotemic', 'healthy', 'healthy', 'healthy', 'healthy', 'azotemic',\n",
       "        'healthy', 'healthy', 'azotemic', 'healthy', 'azotemic', 'healthy',\n",
       "        'azotemic', 'azotemic', 'healthy', 'healthy', 'healthy', 'healthy',\n",
       "        'healthy', 'healthy', 'azotemic', 'healthy', 'healthy', 'azotemic',\n",
       "        'azotemic', 'azotemic', 'healthy', 'healthy', 'healthy', 'healthy',\n",
       "        'healthy', 'azotemic', 'healthy', 'healthy', 'healthy', 'healthy',\n",
       "        'healthy', 'healthy', 'healthy', 'healthy', 'azotemic', 'healthy',\n",
       "        'healthy', 'healthy', 'healthy', 'healthy', 'healthy', 'healthy',\n",
       "        'azotemic', 'healthy', 'azotemic', 'healthy', 'healthy',\n",
       "        'azotemic', 'healthy', 'healthy', 'healthy', 'healthy', 'azotemic',\n",
       "        'healthy', 'healthy', 'azotemic', 'healthy', 'healthy', 'healthy',\n",
       "        'healthy', 'healthy', 'azotemic', 'azotemic', 'healthy',\n",
       "        'azotemic'], dtype=object))"
      ]
     },
     "execution_count": 6,
     "metadata": {},
     "output_type": "execute_result"
    }
   ],
   "source": [
    "from sklearn.model_selection import train_test_split\n",
    "X_train, X_test, y_train, y_test = train_test_split(X, y, test_size=0.20)\n",
    "X_train, X_test, y_train, y_test"
   ]
  },
  {
   "cell_type": "code",
   "execution_count": 9,
   "metadata": {},
   "outputs": [],
   "source": [
    "from sklearn.preprocessing import StandardScaler\n",
    "scaler = StandardScaler()\n",
    "scaler.fit(X_train)\n",
    "\n",
    "X_train = scaler.transform(X_train)\n",
    "X_test = scaler.transform(X_test)"
   ]
  },
  {
   "cell_type": "code",
   "execution_count": 10,
   "metadata": {},
   "outputs": [],
   "source": [
    "from sklearn.neighbors import KNeighborsClassifier\n",
    "classifier = KNeighborsClassifier(n_neighbors=5)"
   ]
  },
  {
   "cell_type": "code",
   "execution_count": 11,
   "metadata": {},
   "outputs": [
    {
     "data": {
      "text/plain": [
       "KNeighborsClassifier(algorithm='auto', leaf_size=30, metric='minkowski',\n",
       "                     metric_params=None, n_jobs=None, n_neighbors=5, p=2,\n",
       "                     weights='uniform')"
      ]
     },
     "execution_count": 11,
     "metadata": {},
     "output_type": "execute_result"
    }
   ],
   "source": [
    "classifier.fit(X_train, y_train)"
   ]
  },
  {
   "cell_type": "code",
   "execution_count": 12,
   "metadata": {},
   "outputs": [],
   "source": [
    "y_pred = classifier.predict(X_test)\n",
    "print(classifier.predict([[-1.41359733 -1.38940017 -1.46651478,-1.41067791,-1.41067791, -1.0279767  -1.40088723\n",
    "  -1.41067791]\n",
    " [-0.19439754 -0.2549662  -0.04392971 ... -0.47787415  0.20430345\n",
    "  -0.27445997]\n",
    " [-0.92404566 -0.83729348 -0.99260697 ... -0.7777148  -1.14024972\n",
    "  -0.83020175]))"
   ]
  },
  {
   "cell_type": "code",
   "execution_count": 39,
   "metadata": {},
   "outputs": [],
   "source": [
    "from sklearn.metrics import classification_report, confusion_matrix"
   ]
  },
  {
   "cell_type": "code",
   "execution_count": 40,
   "metadata": {},
   "outputs": [
    {
     "name": "stdout",
     "output_type": "stream",
     "text": [
      "[[ 97   1]\n",
      " [  0 266]]\n"
     ]
    }
   ],
   "source": [
    "print(confusion_matrix(y_test, y_pred))"
   ]
  },
  {
   "cell_type": "code",
   "execution_count": 41,
   "metadata": {},
   "outputs": [
    {
     "name": "stdout",
     "output_type": "stream",
     "text": [
      "              precision    recall  f1-score   support\n",
      "\n",
      "    azotemic       1.00      0.99      0.99        98\n",
      "     healthy       1.00      1.00      1.00       266\n",
      "\n",
      "    accuracy                           1.00       364\n",
      "   macro avg       1.00      0.99      1.00       364\n",
      "weighted avg       1.00      1.00      1.00       364\n",
      "\n"
     ]
    }
   ],
   "source": [
    "print(classification_report(y_test, y_pred))"
   ]
  },
  {
   "cell_type": "code",
   "execution_count": 42,
   "metadata": {},
   "outputs": [],
   "source": [
    "error = []\n",
    "\n",
    "# Calculating error for K values between 1 and 40\n",
    "for i in range(1, 40):\n",
    "    knn = KNeighborsClassifier(n_neighbors=i)\n",
    "    knn.fit(X_train, y_train)\n",
    "    pred_i = knn.predict(X_test)\n",
    "    error.append(np.mean(pred_i != y_test))"
   ]
  },
  {
   "cell_type": "code",
   "execution_count": 43,
   "metadata": {},
   "outputs": [
    {
     "data": {
      "text/plain": [
       "Text(0, 0.5, 'Mean Error')"
      ]
     },
     "execution_count": 43,
     "metadata": {},
     "output_type": "execute_result"
    },
    {
     "data": {
      "image/png": "[encoded data removed]",
      "text/plain": [
       "<Figure size 864x432 with 1 Axes>"
      ]
     },
     "metadata": {
      "needs_background": "light"
     },
     "output_type": "display_data"
    }
   ],
   "source": [
    "plt.figure(figsize=(12, 6))\n",
    "plt.plot(range(1, 40), error, color='red', linestyle='dashed', marker='o',\n",
    "         markerfacecolor='blue', markersize=10)\n",
    "plt.title('Error Rate K Value')\n",
    "plt.xlabel('K Value')\n",
    "plt.ylabel('Mean Error')"
   ]
  },
  {
   "cell_type": "code",
   "execution_count": null,
   "metadata": {},
   "outputs": [],
   "source": []
  }
 ],
 "metadata": {
  "kernelspec": {
   "display_name": "Python 3",
   "language": "python",
   "name": "python3"
  },
  "language_info": {
   "codemirror_mode": {
    "name": "ipython",
    "version": 3
   },
   "file_extension": ".py",
   "mimetype": "text/x-python",
   "name": "python",
   "nbconvert_exporter": "python",
   "pygments_lexer": "ipython3",
   "version": "3.7.4"
  }
 },
 "nbformat": 4,
 "nbformat_minor": 2
}
